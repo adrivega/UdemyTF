{
 "cells": [
  {
   "cell_type": "markdown",
   "metadata": {},
   "source": [
    "# MNIST CNN"
   ]
  },
  {
   "cell_type": "code",
   "execution_count": 28,
   "metadata": {},
   "outputs": [],
   "source": [
    "import tensorflow as tf"
   ]
  },
  {
   "cell_type": "code",
   "execution_count": 29,
   "metadata": {},
   "outputs": [],
   "source": [
    "from tensorflow.examples.tutorials.mnist import input_data"
   ]
  },
  {
   "cell_type": "code",
   "execution_count": 30,
   "metadata": {},
   "outputs": [
    {
     "name": "stdout",
     "output_type": "stream",
     "text": [
      "Extracting MNIST_data/train-images-idx3-ubyte.gz\n",
      "Extracting MNIST_data/train-labels-idx1-ubyte.gz\n",
      "Extracting MNIST_data/t10k-images-idx3-ubyte.gz\n",
      "Extracting MNIST_data/t10k-labels-idx1-ubyte.gz\n"
     ]
    }
   ],
   "source": [
    "mnist = input_data.read_data_sets(\"MNIST_data/\",one_hot=True)"
   ]
  },
  {
   "cell_type": "code",
   "execution_count": 31,
   "metadata": {},
   "outputs": [],
   "source": [
    "## Helper functions\n",
    "\n",
    "# Init weights"
   ]
  },
  {
   "cell_type": "code",
   "execution_count": 32,
   "metadata": {},
   "outputs": [],
   "source": [
    "def init_weights(shape):\n",
    "    init_random_dist = tf.truncated_normal(shape=shape, stddev=0.1)\n",
    "    \n",
    "    return tf.Variable(init_random_dist)"
   ]
  },
  {
   "cell_type": "code",
   "execution_count": 33,
   "metadata": {},
   "outputs": [],
   "source": [
    "# Init bias"
   ]
  },
  {
   "cell_type": "code",
   "execution_count": 34,
   "metadata": {},
   "outputs": [],
   "source": [
    "def init_bias(shape):\n",
    "    init_bias_vals = tf.constant(0.1,shape=shape)\n",
    "    \n",
    "    return tf.Variable(init_bias_vals)"
   ]
  },
  {
   "cell_type": "code",
   "execution_count": 35,
   "metadata": {},
   "outputs": [],
   "source": [
    "#CONV2D"
   ]
  },
  {
   "cell_type": "code",
   "execution_count": 36,
   "metadata": {},
   "outputs": [],
   "source": [
    "def conv2d(x,W):\n",
    "    # x as input tensor [batch, H,W,Channels]\n",
    "    # W as kernel; [filter H, filter W, Channels IN, Channels OUT]\n",
    "    \n",
    "    return tf.nn.conv2d(x,W,strides=[1,1,1,1], padding= 'SAME')"
   ]
  },
  {
   "cell_type": "code",
   "execution_count": 37,
   "metadata": {},
   "outputs": [],
   "source": [
    "# Pooling"
   ]
  },
  {
   "cell_type": "code",
   "execution_count": 38,
   "metadata": {},
   "outputs": [],
   "source": [
    "def max_pool_2by2(x):\n",
    "    # x as [batch, H,W,Channels]\n",
    "    #ksize pooling on H and W \n",
    "    \n",
    "    return tf.nn.max_pool(x,ksize=[1,2,2,1],strides=[1,2,2,1], padding= 'SAME')"
   ]
  },
  {
   "cell_type": "code",
   "execution_count": 39,
   "metadata": {},
   "outputs": [],
   "source": [
    "# Create layers"
   ]
  },
  {
   "cell_type": "code",
   "execution_count": 40,
   "metadata": {},
   "outputs": [],
   "source": [
    "# CONVOLUTIONAL layer\n",
    "def convolutional_layer(input_x,shape):\n",
    "    W = init_weights(shape)\n",
    "    # bias along 3rd dimension (indexing)\n",
    "    b = init_bias([shape[3]])\n",
    "    \n",
    "    return tf.nn.relu(conv2d(input_x,W)+b)"
   ]
  },
  {
   "cell_type": "code",
   "execution_count": 41,
   "metadata": {},
   "outputs": [],
   "source": [
    "# NORMAL (fully connected layer)"
   ]
  },
  {
   "cell_type": "code",
   "execution_count": 42,
   "metadata": {},
   "outputs": [],
   "source": [
    "def normal_full_layer(input_layer, size):\n",
    "    input_size = int(input_layer.get_shape()[1])\n",
    "    W = init_weights([input_size,size])\n",
    "    b = init_bias([size])\n",
    "    \n",
    "    return tf.matmul(input_layer, W) + b"
   ]
  },
  {
   "cell_type": "code",
   "execution_count": 43,
   "metadata": {},
   "outputs": [],
   "source": [
    "# Build multiple layers along with placeholders "
   ]
  },
  {
   "cell_type": "code",
   "execution_count": 44,
   "metadata": {},
   "outputs": [],
   "source": [
    "#for feed_dictionary\n",
    "x = tf.placeholder(tf.float32, shape = [None, 784])\n",
    "y_true = tf.placeholder(tf.float32, shape = [None, 10] )"
   ]
  },
  {
   "cell_type": "code",
   "execution_count": 45,
   "metadata": {},
   "outputs": [],
   "source": [
    "x_image = tf.reshape(x,[-1,28,28,1])"
   ]
  },
  {
   "cell_type": "code",
   "execution_count": 46,
   "metadata": {
    "jupyter": {
     "outputs_hidden": true
    }
   },
   "outputs": [],
   "source": [
    "#convol. layer computes 32 features for each 5by5 patch\n",
    "# 1 grayscale channel\n",
    "convo_1 = convolutional_layer(x_image, shape = [5,5,1,32])\n",
    "convo_1_pooling = max_pool_2by2(convo_1)"
   ]
  },
  {
   "cell_type": "code",
   "execution_count": 47,
   "metadata": {},
   "outputs": [],
   "source": [
    "convo_2 = convolutional_layer(convo_1_pooling,shape = [5,5,32,64])\n",
    "convo_2_pooling = max_pool_2by2(convo_2)"
   ]
  },
  {
   "cell_type": "code",
   "execution_count": 48,
   "metadata": {},
   "outputs": [],
   "source": [
    "convo_2_flat = tf.reshape(convo_2_pooling, [-1, 7*7*64])\n",
    "full_layer_one = tf.nn.relu(normal_full_layer(convo_2_flat,1024))"
   ]
  },
  {
   "cell_type": "code",
   "execution_count": 49,
   "metadata": {},
   "outputs": [],
   "source": [
    "# Use dropout to prevent overfitting\n",
    "hold_prob = tf.placeholder(tf.float32)\n",
    "full_one_dropout = tf.nn.dropout(full_layer_one, keep_prob = hold_prob)"
   ]
  },
  {
   "cell_type": "code",
   "execution_count": 50,
   "metadata": {},
   "outputs": [],
   "source": [
    "y_pred = normal_full_layer(full_one_dropout, 10)"
   ]
  },
  {
   "cell_type": "code",
   "execution_count": null,
   "metadata": {},
   "outputs": [],
   "source": []
  },
  {
   "cell_type": "code",
   "execution_count": 51,
   "metadata": {},
   "outputs": [],
   "source": [
    "#Optimizer"
   ]
  },
  {
   "cell_type": "code",
   "execution_count": 52,
   "metadata": {},
   "outputs": [],
   "source": [
    "cross_entropy = tf.reduce_mean(tf.nn.softmax_cross_entropy_with_logits(labels= y_true , logits = y_pred))\n",
    "optimizer = tf.train.AdamOptimizer(learning_rate= 0.001)\n",
    "train = optimizer.minimize(cross_entropy)"
   ]
  },
  {
   "cell_type": "code",
   "execution_count": 53,
   "metadata": {},
   "outputs": [],
   "source": [
    "init= tf.global_variables_initializer()"
   ]
  },
  {
   "cell_type": "code",
   "execution_count": 54,
   "metadata": {},
   "outputs": [
    {
     "name": "stdout",
     "output_type": "stream",
     "text": [
      "ON STEP: 0\n",
      "Accuracy: \n",
      "0.1019\n",
      "\n",
      "\n",
      "ON STEP: 100\n",
      "Accuracy: \n",
      "0.9347\n",
      "\n",
      "\n",
      "ON STEP: 200\n",
      "Accuracy: \n",
      "0.9626\n",
      "\n",
      "\n",
      "ON STEP: 300\n",
      "Accuracy: \n",
      "0.9722\n",
      "\n",
      "\n",
      "ON STEP: 400\n",
      "Accuracy: \n",
      "0.975\n",
      "\n",
      "\n",
      "ON STEP: 500\n",
      "Accuracy: \n",
      "0.9638\n",
      "\n",
      "\n",
      "ON STEP: 600\n",
      "Accuracy: \n",
      "0.983\n",
      "\n",
      "\n",
      "ON STEP: 700\n",
      "Accuracy: \n",
      "0.98\n",
      "\n",
      "\n",
      "ON STEP: 800\n",
      "Accuracy: \n",
      "0.9846\n",
      "\n",
      "\n",
      "ON STEP: 900\n",
      "Accuracy: \n",
      "0.982\n",
      "\n",
      "\n",
      "ON STEP: 1000\n",
      "Accuracy: \n",
      "0.9859\n",
      "\n",
      "\n",
      "ON STEP: 1100\n",
      "Accuracy: \n",
      "0.9866\n",
      "\n",
      "\n",
      "ON STEP: 1200\n",
      "Accuracy: \n",
      "0.9872\n",
      "\n",
      "\n",
      "ON STEP: 1300\n",
      "Accuracy: \n",
      "0.9873\n",
      "\n",
      "\n",
      "ON STEP: 1400\n",
      "Accuracy: \n",
      "0.9862\n",
      "\n",
      "\n",
      "ON STEP: 1500\n",
      "Accuracy: \n",
      "0.9843\n",
      "\n",
      "\n",
      "ON STEP: 1600\n",
      "Accuracy: \n",
      "0.9864\n",
      "\n",
      "\n",
      "ON STEP: 1700\n",
      "Accuracy: \n",
      "0.9847\n",
      "\n",
      "\n",
      "ON STEP: 1800\n",
      "Accuracy: \n",
      "0.9869\n",
      "\n",
      "\n",
      "ON STEP: 1900\n",
      "Accuracy: \n",
      "0.9883\n",
      "\n",
      "\n",
      "ON STEP: 2000\n",
      "Accuracy: \n",
      "0.9887\n",
      "\n",
      "\n",
      "ON STEP: 2100\n",
      "Accuracy: \n",
      "0.9854\n",
      "\n",
      "\n",
      "ON STEP: 2200\n",
      "Accuracy: \n",
      "0.9893\n",
      "\n",
      "\n",
      "ON STEP: 2300\n",
      "Accuracy: \n",
      "0.9903\n",
      "\n",
      "\n",
      "ON STEP: 2400\n",
      "Accuracy: \n",
      "0.9899\n",
      "\n",
      "\n",
      "ON STEP: 2500\n",
      "Accuracy: \n",
      "0.9876\n",
      "\n",
      "\n",
      "ON STEP: 2600\n",
      "Accuracy: \n",
      "0.9896\n",
      "\n",
      "\n",
      "ON STEP: 2700\n",
      "Accuracy: \n",
      "0.9882\n",
      "\n",
      "\n",
      "ON STEP: 2800\n",
      "Accuracy: \n",
      "0.99\n",
      "\n",
      "\n",
      "ON STEP: 2900\n",
      "Accuracy: \n",
      "0.9895\n",
      "\n",
      "\n",
      "ON STEP: 3000\n",
      "Accuracy: \n",
      "0.9878\n",
      "\n",
      "\n",
      "ON STEP: 3100\n",
      "Accuracy: \n",
      "0.9893\n",
      "\n",
      "\n",
      "ON STEP: 3200\n",
      "Accuracy: \n",
      "0.9899\n",
      "\n",
      "\n",
      "ON STEP: 3300\n",
      "Accuracy: \n",
      "0.991\n",
      "\n",
      "\n",
      "ON STEP: 3400\n",
      "Accuracy: \n",
      "0.9905\n",
      "\n",
      "\n",
      "ON STEP: 3500\n",
      "Accuracy: \n",
      "0.9907\n",
      "\n",
      "\n",
      "ON STEP: 3600\n",
      "Accuracy: \n",
      "0.989\n",
      "\n",
      "\n",
      "ON STEP: 3700\n",
      "Accuracy: \n",
      "0.9905\n",
      "\n",
      "\n",
      "ON STEP: 3800\n",
      "Accuracy: \n",
      "0.9886\n",
      "\n",
      "\n",
      "ON STEP: 3900\n",
      "Accuracy: \n",
      "0.9886\n",
      "\n",
      "\n",
      "ON STEP: 4000\n",
      "Accuracy: \n",
      "0.9912\n",
      "\n",
      "\n",
      "ON STEP: 4100\n",
      "Accuracy: \n",
      "0.9891\n",
      "\n",
      "\n",
      "ON STEP: 4200\n",
      "Accuracy: \n",
      "0.9918\n",
      "\n",
      "\n",
      "ON STEP: 4300\n",
      "Accuracy: \n",
      "0.9908\n",
      "\n",
      "\n",
      "ON STEP: 4400\n",
      "Accuracy: \n",
      "0.9912\n",
      "\n",
      "\n",
      "ON STEP: 4500\n",
      "Accuracy: \n",
      "0.9912\n",
      "\n",
      "\n",
      "ON STEP: 4600\n",
      "Accuracy: \n",
      "0.9915\n",
      "\n",
      "\n",
      "ON STEP: 4700\n",
      "Accuracy: \n",
      "0.9903\n",
      "\n",
      "\n",
      "ON STEP: 4800\n",
      "Accuracy: \n",
      "0.9916\n",
      "\n",
      "\n",
      "ON STEP: 4900\n",
      "Accuracy: \n",
      "0.9909\n",
      "\n",
      "\n"
     ]
    }
   ],
   "source": [
    "steps = 5000\n",
    "\n",
    "with tf.Session() as sess:\n",
    "    \n",
    "    sess.run(init)\n",
    "    \n",
    "    for i in range(steps):\n",
    "        \n",
    "        batch_x, batch_y = mnist.train.next_batch(50)\n",
    "        \n",
    "        sess.run(train,feed_dict={x:batch_x, y_true:batch_y, hold_prob:0.5})\n",
    "        \n",
    "        if i%100 ==0: \n",
    "            \n",
    "            print(\"ON STEP: {}\".format(i))\n",
    "            print(\"Accuracy: \")\n",
    "            \n",
    "            correct_prediction = tf.equal(tf.argmax(y_pred,1) , tf.argmax(y_true,1))\n",
    "            accuracy = tf.reduce_mean(tf.cast(correct_prediction,tf.float32))\n",
    "            \n",
    "            print(sess.run(accuracy, feed_dict={x:mnist.test.images, y_true:mnist.test.labels,hold_prob:1.0}))\n",
    "            print('\\n')\n",
    "            \n",
    "        "
   ]
  },
  {
   "cell_type": "code",
   "execution_count": null,
   "metadata": {},
   "outputs": [],
   "source": []
  }
 ],
 "metadata": {
  "kernelspec": {
   "display_name": "Python 3",
   "language": "python",
   "name": "python3"
  },
  "language_info": {
   "codemirror_mode": {
    "name": "ipython",
    "version": 3
   },
   "file_extension": ".py",
   "mimetype": "text/x-python",
   "name": "python",
   "nbconvert_exporter": "python",
   "pygments_lexer": "ipython3",
   "version": "3.7.6"
  }
 },
 "nbformat": 4,
 "nbformat_minor": 4
}
